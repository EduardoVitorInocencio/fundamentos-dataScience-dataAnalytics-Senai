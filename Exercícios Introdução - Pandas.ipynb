{
 "cells": [
  {
   "cell_type": "code",
   "execution_count": null,
   "id": "9adb9fa5",
   "metadata": {},
   "outputs": [],
   "source": [
    "import pandas as pd"
   ]
  },
  {
   "cell_type": "markdown",
   "id": "11122cbb",
   "metadata": {},
   "source": [
    "1. Escreva um programa Pandas para importar dados do Excel (coalpublic2013.xlsx ) para um dataframe Pandas."
   ]
  },
  {
   "cell_type": "code",
   "execution_count": null,
   "id": "19f7c2c3",
   "metadata": {},
   "outputs": [],
   "source": [
    "df = pd.read_excel('C:\\\\Users\\\\dell\\\\Downloads\\\\coalpublic2013 (1).xlsx')\n",
    "print(df.head)"
   ]
  },
  {
   "cell_type": "markdown",
   "id": "e141fd48",
   "metadata": {},
   "source": [
    "2. Escreva um programa Pandas para obter os tipos de dados dos campos de dados do Excel fornecidos (coalpublic2013.xlsx)"
   ]
  },
  {
   "cell_type": "code",
   "execution_count": null,
   "id": "1b3a90ee",
   "metadata": {},
   "outputs": [],
   "source": [
    "df = pd.read_excel('C:\\\\Users\\\\dell\\\\Downloads\\\\coalpublic2013 (1).xlsx')    \n",
    "df.dtypes"
   ]
  },
  {
   "cell_type": "markdown",
   "id": "c43a2bac",
   "metadata": {},
   "source": [
    "4. Escreva um programa Pandas para encontrar a soma, média, valor máximo e mínimo da coluna 'Produção (toneladas curtas)' do arquivo coalpublic2013.xlsx."
   ]
  },
  {
   "cell_type": "code",
   "execution_count": null,
   "id": "19bf1c10",
   "metadata": {},
   "outputs": [],
   "source": [
    "df = pd.read_excel('C:\\\\Users\\\\dell\\\\Downloads\\\\coalpublic2013 (1).xlsx')\n",
    "print(\"Sum: \",df[\"Production\"].sum()) \n",
    "print(\"Mean: \",df[\"Production\"].mean())\n",
    "print(\"Maximum: \",df[\"Production\"].max())\n",
    "print(\"Minimum: \",df[\"Production\"].min()) "
   ]
  },
  {
   "cell_type": "markdown",
   "id": "62cb0245",
   "metadata": {},
   "source": [
    "5. Escreva um programa Pandas para inserir uma coluna na sexta posição da referida planilha do Excel e preencha-a com valores NaN."
   ]
  },
  {
   "cell_type": "code",
   "execution_count": null,
   "id": "94f7f55d",
   "metadata": {},
   "outputs": [],
   "source": [
    "df = pd.read_excel('C:\\\\Users\\\\dell\\\\Downloads\\\\coalpublic2013 (1).xlsx')\n",
    "df.insert(5, \"column1\", 'oi')\n",
    "##df.loc[df['MSHA ID'] == 103381, 'column1'] = 10\n",
    "df.head()\n"
   ]
  },
  {
   "cell_type": "markdown",
   "id": "a93345ef",
   "metadata": {},
   "source": [
    "6. Escreva um programa Pandas para importar alguns dados do Excel (coalpublic2013.xlsx ) pulando as primeiras vinte linhas em um dataframe do Pandas."
   ]
  },
  {
   "cell_type": "code",
   "execution_count": null,
   "id": "811bcf55",
   "metadata": {},
   "outputs": [],
   "source": [
    "df = pd.read_excel('C:\\\\Users\\\\dell\\\\Downloads\\\\coalpublic2013 (1).xlsx', skiprows = 40)\n",
    "df"
   ]
  },
  {
   "cell_type": "markdown",
   "id": "f6c3de88",
   "metadata": {},
   "source": [
    "7. Escreva um programa Pandas para importar dados do Excel (coalpublic2013.xlsx ) para um dataframe Pandas e exibir as últimas dez linhas\n"
   ]
  },
  {
   "cell_type": "code",
   "execution_count": null,
   "id": "f7337b53",
   "metadata": {},
   "outputs": [],
   "source": [
    "df = pd.read_excel('C:\\\\Users\\\\dell\\\\Downloads\\\\coalpublic2013 (1).xlsx')\n",
    "df.tail(n=10)"
   ]
  },
  {
   "cell_type": "markdown",
   "id": "c46eee2a",
   "metadata": {},
   "source": [
    "8. Escreva um programa Pandas para importar dados do Excel (coalpublic2013.xlsx ) em um dataframe e encontre um ID MSHA específico.\n"
   ]
  },
  {
   "cell_type": "code",
   "execution_count": null,
   "id": "ec91f391",
   "metadata": {},
   "outputs": [],
   "source": [
    "df = pd.read_excel('C:\\\\Users\\\\dell\\\\Downloads\\\\coalpublic2013 (1).xlsx')    \n",
    "df[df[\"MSHA ID\"]==102901].head()"
   ]
  },
  {
   "cell_type": "markdown",
   "id": "691ceff8",
   "metadata": {},
   "source": [
    "9. Escreva um programa Pandas para importar dados do Excel (coalpublic2013.xlsx ) em um dataframe e encontre detalhes onde \"Labor Hours\" > 20000."
   ]
  },
  {
   "cell_type": "code",
   "execution_count": null,
   "id": "3c844e40",
   "metadata": {},
   "outputs": [],
   "source": [
    "df = pd.read_excel('C:\\\\Users\\\\dell\\\\Downloads\\\\coalpublic2013 (1).xlsx')    \n",
    "df[df[\"Labor_Hours\"] > 20000].head()"
   ]
  },
  {
   "cell_type": "markdown",
   "id": "e45faacf",
   "metadata": {},
   "source": [
    "10. Escreva um programa Pandas para importar dados do Excel (coalpublic2013.xlsx ) em um dataframe e encontre detalhes onde \"Mine Name\" começa com \"P\"."
   ]
  },
  {
   "cell_type": "code",
   "execution_count": null,
   "id": "7fe4a398",
   "metadata": {},
   "outputs": [],
   "source": [
    "df = pd.read_excel('C:\\\\Users\\\\dell\\\\Downloads\\\\coalpublic2013 (1).xlsx')    \n",
    "df[df[\"Mine_Name\"].map(lambda x: x.startswith('P'))].head()"
   ]
  },
  {
   "cell_type": "markdown",
   "id": "2b37a5cd",
   "metadata": {},
   "source": [
    "11. Escreva um programa Pandas para importar dados do Excel (coalpublic2013.xlsx ) em um dataframe e encontre todos os registros que incluam dois ID MSHA específicos."
   ]
  },
  {
   "cell_type": "code",
   "execution_count": null,
   "id": "b64e266b",
   "metadata": {},
   "outputs": [],
   "source": [
    "df = pd.read_excel('C:\\\\Users\\\\dell\\\\Downloads\\\\coalpublic2013 (1).xlsx')    \n",
    "df[df[\"MSHA ID\"].isin([102976,103380])].head()"
   ]
  },
  {
   "cell_type": "markdown",
   "id": "0e2bca65",
   "metadata": {},
   "source": [
    "12. Escreva um programa Pandas para importar dados do Excel (coalpublic2013.xlsx ) para um dataframe Pandas e encontre uma lista de clientes especificados por nome."
   ]
  },
  {
   "cell_type": "code",
   "execution_count": null,
   "id": "a05f5862",
   "metadata": {},
   "outputs": [],
   "source": [
    "df = pd.read_excel('C:\\\\Users\\\\dell\\\\Downloads\\\\coalpublic2013 (1).xlsx')    \n",
    "df.query('Mine_Name == [\"Shoal Creek Mine\", \"Piney Woods Preparation Plant\"]').head()"
   ]
  },
  {
   "cell_type": "markdown",
   "id": "2f187f4e",
   "metadata": {},
   "source": [
    "13. Escreva um programa Pandas para importar três planilhas de dados de um dado Excel (coalpublic2013.xlsx ) e combinar em um único dataframe. Nota: A estrutura das três folhas de dados é a mesma."
   ]
  },
  {
   "cell_type": "code",
   "execution_count": null,
   "id": "a60b55cb",
   "metadata": {},
   "outputs": [],
   "source": [
    "df1 = pd.read_excel('C:\\\\Users\\\\dell\\\\Downloads\\\\coalpublic2013 (1).xlsx',sheet_name=0)\n",
    "df2 = pd.read_excel('C:\\\\Users\\\\dell\\\\Downloads\\\\coalpublic2013 (1).xlsx',sheet_name=0)\n",
    "df3 = pd.read_excel('C:\\\\Users\\\\dell\\\\Downloads\\\\coalpublic2013 (1).xlsx',sheet_name=0)\n",
    "df = pd.concat([df1, df2, df3])\n",
    "print(df)"
   ]
  },
  {
   "cell_type": "markdown",
   "id": "3a64e211",
   "metadata": {},
   "source": [
    "#  Arquivo Employee"
   ]
  },
  {
   "cell_type": "markdown",
   "id": "db745870",
   "metadata": {},
   "source": [
    "01. Escreva um programa Pandas para importar dados do Excel (employee.xlsx ) em um dataframe Pandas e encontre uma lista de funcionários onde Hire_date> 01-01-07."
   ]
  },
  {
   "cell_type": "code",
   "execution_count": null,
   "id": "60d0022a",
   "metadata": {},
   "outputs": [],
   "source": [
    "df = pd.read_excel(\"C:\\\\Users\\\\dell\\\\Downloads\\\\employee.xlsx\")\n",
    "df[df['hire_date'] >='20070101']"
   ]
  },
  {
   "cell_type": "markdown",
   "id": "10180058",
   "metadata": {},
   "source": [
    "2.Escreva um programa Pandas para importar dados do Excel (employee.xlsx ) para um dataframe Pandas e classificar os registros pela coluna Hire_date.\n"
   ]
  },
  {
   "cell_type": "code",
   "execution_count": null,
   "id": "d33bd2e7",
   "metadata": {},
   "outputs": [],
   "source": [
    "df = pd.read_excel('C:\\\\Users\\\\dell\\\\Downloads\\\\employee.xlsx')\n",
    "result = df.sort_values('hire_date')\n",
    "result"
   ]
  },
  {
   "cell_type": "markdown",
   "id": "5e71b47f",
   "metadata": {},
   "source": [
    "3. Escreva um programa Pandas para importar dados do Excel (employee.xlsx ) em um dataframe Pandas e encontre uma lista de funcionários onde a data_contratação está entre dois meses e anos específicos."
   ]
  },
  {
   "cell_type": "code",
   "execution_count": null,
   "id": "a0607b96",
   "metadata": {},
   "outputs": [],
   "source": [
    "df = pd.read_excel('C:\\\\Users\\\\dell\\\\Downloads\\\\employee.xlsx')\n",
    "result = df[(df['hire_date'] >='Jan-2005') & (df['hire_date'] <= 'Jan-2006')].head()\n",
    "result"
   ]
  },
  {
   "cell_type": "markdown",
   "id": "c132234f",
   "metadata": {},
   "source": [
    "4. Escreva um programa Pandas para importar dados do Excel (employee.xlsx ) para um dataframe Pandas e encontre uma lista de funcionários de um ano especificado."
   ]
  },
  {
   "cell_type": "code",
   "execution_count": null,
   "id": "be36412d",
   "metadata": {},
   "outputs": [],
   "source": [
    "df = pd.read_excel('C:\\\\Users\\\\dell\\\\Downloads\\\\employee.xlsx')\n",
    "df2 = df.set_index(['hire_date'])\n",
    "result = df2[\"2006\"]\n",
    "df2"
   ]
  },
  {
   "cell_type": "markdown",
   "id": "aecc5da2",
   "metadata": {},
   "source": [
    "5. Escreva um programa Pandas para importar dados do Excel (employee.xlsx ) em um dataframe Pandas e converta os dados para usar a data_contratação como índice."
   ]
  },
  {
   "cell_type": "code",
   "execution_count": null,
   "id": "b38517d3",
   "metadata": {},
   "outputs": [],
   "source": [
    "df = pd.read_excel('C:\\\\Users\\\\dell\\\\Downloads\\\\employee.xlsx')\n",
    "result = df.set_index(['hire_date'])\n",
    "result"
   ]
  },
  {
   "cell_type": "markdown",
   "id": "da79cc3e",
   "metadata": {},
   "source": [
    "6. Escreva um programa Pandas para importar dados da planilha2 de um determinado dado do Excel (employee.xlsx ) para um dataframe do Pandas."
   ]
  },
  {
   "cell_type": "code",
   "execution_count": null,
   "id": "7cf4a1b5",
   "metadata": {},
   "outputs": [],
   "source": [
    "df = pd.read_excel('C:\\\\Users\\\\dell\\\\Downloads\\\\employee.xlsx',sheet_name=1)\n",
    "print(df)"
   ]
  },
  {
   "cell_type": "markdown",
   "id": "88750d36",
   "metadata": {},
   "source": [
    "7. Escreva um programa Pandas para importar três planilhas de um determinado dado do Excel (employee.xlsx ) para um único dataframe e exportar o resultado para um novo arquivo do Excel. Nota: A estrutura das três folhas de dados é a mesma!"
   ]
  },
  {
   "cell_type": "code",
   "execution_count": null,
   "id": "b3de57eb",
   "metadata": {},
   "outputs": [],
   "source": [
    "df1 = pd.read_excel('C:\\\\Users\\\\dell\\\\Downloads\\\\employee.xlsx',sheet_name=0)\n",
    "df2 = pd.read_excel('C:\\\\Users\\\\dell\\\\Downloads\\\\employee.xlsx',sheet_name=0)\n",
    "df3 = pd.read_excel('C:\\\\Users\\\\dell\\\\Downloads\\\\employee.xlsx',sheet_name=0)\n",
    "df = pd.concat([df1, df2, df3])\n",
    "df.to_excel('C:\\\\Users\\\\dell\\\\Downloads\\\\output.xlsx')"
   ]
  }
 ],
 "metadata": {
  "kernelspec": {
   "display_name": "Python 3 (ipykernel)",
   "language": "python",
   "name": "python3"
  },
  "language_info": {
   "codemirror_mode": {
    "name": "ipython",
    "version": 3
   },
   "file_extension": ".py",
   "mimetype": "text/x-python",
   "name": "python",
   "nbconvert_exporter": "python",
   "pygments_lexer": "ipython3",
   "version": "3.9.13"
  }
 },
 "nbformat": 4,
 "nbformat_minor": 5
}
