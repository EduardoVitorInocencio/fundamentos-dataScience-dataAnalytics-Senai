{
 "cells": [
  {
   "attachments": {},
   "cell_type": "markdown",
   "id": "b5f4ad85",
   "metadata": {},
   "source": [
    "# O que são estruturas condicionais?"
   ]
  },
  {
   "attachments": {},
   "cell_type": "markdown",
   "id": "abd33f90",
   "metadata": {},
   "source": [
    "Quando falamos em lógica de programação, as estruturas condicionais são recursos oferecidos pelas linguagens para que seja possível verificar uma condição e alterar o fluxo de execução do algoritmo. Assim, é possível definir uma ação específica para diferentes cenários e obter exatamente o resultado esperado durante o desenvolvimento de um site ou de uma aplicação.\n",
    "\n",
    "O uso das estruturas condicionais é praticamente indispensável na maioria dos projetos, já que elas são capazes de realizar diferentes funções de forma prática. Elas permitem, por exemplo, controlar o conteúdo que será exibido, criar formulários dinâmicos, desenvolver mídias interativas e tornar páginas responsivas.\n",
    "\n",
    "As estruturas condicionais estão entre os conceitos básicos das linguagens de programação. Ainda assim, conhecer a fundo suas aplicações e as diferentes possibilidades que ela oferece é uma excelente maneira de se tornar um profissional mais completo e se destacar em suas criações.\n",
    "\n",
    "A estrutura If é utilizada para executar uma instrução, dependendo do resultado de uma expressão. Ela seleciona exatamente uma das instruções avaliando as expressões uma a uma até que uma seja considerada verdadeira, então esse conjunto é executado. Se a condição for falsa, o conjunto da cláusula else é executado.\n",
    "\n",
    "if condição:\n",
    "\n",
    " instruções caso a condição seja verdadeira\n",
    " \n",
    "else:\n",
    "\n",
    " instruções caso a condição seja falsa"
   ]
  },
  {
   "cell_type": "markdown",
   "id": "1ce36afe",
   "metadata": {},
   "source": [
    "###### Exemplo 01 (If sem else)"
   ]
  },
  {
   "cell_type": "code",
   "execution_count": 3,
   "id": "4012a114",
   "metadata": {},
   "outputs": [
    {
     "name": "stdout",
     "output_type": "stream",
     "text": [
      "Hoje está muito quente!\n"
     ]
    }
   ],
   "source": [
    "temperatura = 35\n",
    "if temperatura > 30:\n",
    "    print (\"Hoje está muito quente!\")"
   ]
  },
  {
   "attachments": {},
   "cell_type": "markdown",
   "id": "2132447f",
   "metadata": {},
   "source": [
    "###### Exemplo 02 (if sem else)"
   ]
  },
  {
   "cell_type": "code",
   "execution_count": 6,
   "id": "bfea57d5",
   "metadata": {},
   "outputs": [],
   "source": [
    "temperatura = 25\n",
    "if temperatura > 30:\n",
    "    print (\"Hoje está muito quente!\")"
   ]
  },
  {
   "cell_type": "markdown",
   "id": "3e5cf7fc",
   "metadata": {},
   "source": [
    "##### Exemplo 03 (if-else)"
   ]
  },
  {
   "cell_type": "code",
   "execution_count": 9,
   "id": "c54bc3aa",
   "metadata": {},
   "outputs": [
    {
     "name": "stdout",
     "output_type": "stream",
     "text": [
      "A temperatura está agradável!\n"
     ]
    }
   ],
   "source": [
    "temperatura = 28\n",
    "if temperatura > 30:\n",
    "    print (\"Hoje está muito quente!\")\n",
    "else:\n",
    "    print (\"A temperatura está agradável!\")"
   ]
  },
  {
   "cell_type": "markdown",
   "id": "88998925",
   "metadata": {},
   "source": [
    "##### Exemplo 04 (if-else)"
   ]
  },
  {
   "cell_type": "code",
   "execution_count": 11,
   "id": "c65e797c",
   "metadata": {},
   "outputs": [
    {
     "name": "stdout",
     "output_type": "stream",
     "text": [
      "Aprovado\n"
     ]
    }
   ],
   "source": [
    "nota = 7\n",
    "if nota < 7:\n",
    "    print (\"Reprovado\")\n",
    "else:\n",
    "    print (\"Aprovado\")"
   ]
  },
  {
   "attachments": {},
   "cell_type": "markdown",
   "id": "412af9d2",
   "metadata": {},
   "source": [
    "# Estrutura if...elif...else!"
   ]
  },
  {
   "attachments": {},
   "cell_type": "markdown",
   "id": "6fa92ace",
   "metadata": {},
   "source": [
    "Se houver mais de uma condição a ser analisada utiliza-se a instrução if-elif, dessa forma você evita o aninhamento de diversos else’s, ou seja, a condiciona elif é uma espécie de else if."
   ]
  },
  {
   "cell_type": "markdown",
   "id": "c2ff7f36",
   "metadata": {},
   "source": [
    "##### Exemplo 01 (if-elif)"
   ]
  },
  {
   "cell_type": "code",
   "execution_count": 13,
   "id": "a64230ab",
   "metadata": {},
   "outputs": [
    {
     "name": "stdout",
     "output_type": "stream",
     "text": [
      "O tempo está mudando!\n"
     ]
    }
   ],
   "source": [
    "temperatura = 18\n",
    "if temperatura > 30:\n",
    "    print (\"Hoje está muito quente!\")\n",
    "elif temperatura > 25:\n",
    "    print (\"A temperatura está agradável!\")\n",
    "elif temperatura > 15:\n",
    "    print (\"O tempo está mudando!\")\n",
    "else:\n",
    "    print (\"Que friaca!\")"
   ]
  },
  {
   "cell_type": "markdown",
   "id": "326e7c40",
   "metadata": {},
   "source": [
    "###### Exemplo 02 (if-elif)"
   ]
  },
  {
   "attachments": {},
   "cell_type": "markdown",
   "id": "1ad6b527",
   "metadata": {},
   "source": [
    "Nesse procedimento a estrutura If-elif-else foi utilizada para decidir a situação do aluno de acordo com o valor da nota. Assim, se o valor atribuído à variável Nota for menor que 5, aparecerá uma mensagem com o texto Reprovado, se o valor da nota for maior que 5 e menor que 7, aparecerá uma mensagem com o texto Recuperação, se o valor da nota for maior ou igual a 7 e menor que 10, aparecerá uma mensagem com o texto Aprovado, e se o valor da nota for igual a 10 aparecerá uma mensagem com o texto Aprovado com mérito."
   ]
  },
  {
   "cell_type": "code",
   "execution_count": 15,
   "id": "02048f21",
   "metadata": {},
   "outputs": [
    {
     "name": "stdout",
     "output_type": "stream",
     "text": [
      "Aprovado\n"
     ]
    }
   ],
   "source": [
    "nota = 7\n",
    "if nota < 5:\n",
    "    print (\"Reprovado\")\n",
    "elif nota < 7:\n",
    "    print (\"Recuperação\")\n",
    "elif nota < 10:\n",
    "    print (\"Aprovado\")\n",
    "else:\n",
    "    print (\"Aprovado com mérito!\")"
   ]
  }
 ],
 "metadata": {
  "kernelspec": {
   "display_name": "Python 3 (ipykernel)",
   "language": "python",
   "name": "python3"
  },
  "language_info": {
   "codemirror_mode": {
    "name": "ipython",
    "version": 3
   },
   "file_extension": ".py",
   "mimetype": "text/x-python",
   "name": "python",
   "nbconvert_exporter": "python",
   "pygments_lexer": "ipython3",
   "version": "3.9.13"
  }
 },
 "nbformat": 4,
 "nbformat_minor": 5
}
