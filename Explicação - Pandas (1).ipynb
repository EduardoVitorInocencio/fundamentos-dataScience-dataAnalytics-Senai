{
 "cells": [
  {
   "cell_type": "markdown",
   "id": "4bc82594",
   "metadata": {},
   "source": [
    "### Importando a biblioteca"
   ]
  },
  {
   "cell_type": "code",
   "execution_count": 1,
   "id": "978f17a0",
   "metadata": {},
   "outputs": [],
   "source": [
    "import pandas as pd\n",
    "import numpy as np"
   ]
  },
  {
   "cell_type": "code",
   "execution_count": 3,
   "id": "6836c7c1",
   "metadata": {},
   "outputs": [],
   "source": [
    "df = pd.read_xml('C:\\\\Users\\\\dell\\\\OneDrive\\\\Área de Trabalho\\\\Curso Python - Escola SENAI Suiço Brasileira\\\\001 - Exercícios\\\\Arquivo XML.xsl')"
   ]
  },
  {
   "cell_type": "code",
   "execution_count": 4,
   "id": "c85d9ccf",
   "metadata": {},
   "outputs": [
    {
     "data": {
      "text/html": [
       "<div>\n",
       "<style scoped>\n",
       "    .dataframe tbody tr th:only-of-type {\n",
       "        vertical-align: middle;\n",
       "    }\n",
       "\n",
       "    .dataframe tbody tr th {\n",
       "        vertical-align: top;\n",
       "    }\n",
       "\n",
       "    .dataframe thead th {\n",
       "        text-align: right;\n",
       "    }\n",
       "</style>\n",
       "<table border=\"1\" class=\"dataframe\">\n",
       "  <thead>\n",
       "    <tr style=\"text-align: right;\">\n",
       "      <th></th>\n",
       "      <th>method</th>\n",
       "      <th>version</th>\n",
       "      <th>indent</th>\n",
       "      <th>match</th>\n",
       "      <th>html</th>\n",
       "      <th>language</th>\n",
       "      <th>implements-prefix</th>\n",
       "      <th>{urn:schemas-microsoft-com:xslt}script</th>\n",
       "    </tr>\n",
       "  </thead>\n",
       "  <tbody>\n",
       "    <tr>\n",
       "      <th>0</th>\n",
       "      <td>html</td>\n",
       "      <td>4.0</td>\n",
       "      <td>yes</td>\n",
       "      <td>None</td>\n",
       "      <td>NaN</td>\n",
       "      <td>None</td>\n",
       "      <td>None</td>\n",
       "      <td>None</td>\n",
       "    </tr>\n",
       "    <tr>\n",
       "      <th>1</th>\n",
       "      <td>None</td>\n",
       "      <td>NaN</td>\n",
       "      <td>None</td>\n",
       "      <td>//dataroot</td>\n",
       "      <td>NaN</td>\n",
       "      <td>None</td>\n",
       "      <td>None</td>\n",
       "      <td>None</td>\n",
       "    </tr>\n",
       "    <tr>\n",
       "      <th>2</th>\n",
       "      <td>None</td>\n",
       "      <td>NaN</td>\n",
       "      <td>None</td>\n",
       "      <td>None</td>\n",
       "      <td>NaN</td>\n",
       "      <td>VBScript</td>\n",
       "      <td>fx</td>\n",
       "      <td>Option Explicit\\n\\t\\n\\t' *********************...</td>\n",
       "    </tr>\n",
       "  </tbody>\n",
       "</table>\n",
       "</div>"
      ],
      "text/plain": [
       "  method  version indent       match  html  language implements-prefix  \\\n",
       "0   html      4.0    yes        None   NaN      None              None   \n",
       "1   None      NaN   None  //dataroot   NaN      None              None   \n",
       "2   None      NaN   None        None   NaN  VBScript                fx   \n",
       "\n",
       "              {urn:schemas-microsoft-com:xslt}script  \n",
       "0                                               None  \n",
       "1                                               None  \n",
       "2  Option Explicit\\n\\t\\n\\t' *********************...  "
      ]
     },
     "execution_count": 4,
     "metadata": {},
     "output_type": "execute_result"
    }
   ],
   "source": [
    "df.head()"
   ]
  },
  {
   "cell_type": "markdown",
   "id": "a5601d3a",
   "metadata": {},
   "source": [
    "### Criando uma série numérica a partir de uma lista - pd.Series"
   ]
  },
  {
   "cell_type": "code",
   "execution_count": null,
   "id": "2b8863fd",
   "metadata": {
    "scrolled": true
   },
   "outputs": [],
   "source": [
    "idades = pd.Series([15,20,30,40,50,60])\n",
    "print(idades)"
   ]
  },
  {
   "cell_type": "markdown",
   "id": "77082c2d",
   "metadata": {},
   "source": [
    "### Alterando o índice que queremos para a Series."
   ]
  },
  {
   "cell_type": "code",
   "execution_count": null,
   "id": "c436d0e1",
   "metadata": {},
   "outputs": [],
   "source": [
    "index = [\"João\",\"Ana\",\"Maria\",\"Jorge\",\"Rose\",\"Jorge\"]\n",
    "idades.index = index\n",
    "\n",
    "print(idades)"
   ]
  },
  {
   "cell_type": "markdown",
   "id": "fecba37f",
   "metadata": {},
   "source": [
    "### Confirmando os índices"
   ]
  },
  {
   "cell_type": "code",
   "execution_count": null,
   "id": "ca6f2345",
   "metadata": {},
   "outputs": [],
   "source": [
    "idades.index"
   ]
  },
  {
   "cell_type": "markdown",
   "id": "cb728dda",
   "metadata": {},
   "source": [
    "### Obtendo os valores"
   ]
  },
  {
   "cell_type": "code",
   "execution_count": null,
   "id": "bf6766fe",
   "metadata": {},
   "outputs": [],
   "source": [
    "idades.values"
   ]
  },
  {
   "cell_type": "markdown",
   "id": "41571012",
   "metadata": {},
   "source": [
    "### Criando um dataframe com arrays"
   ]
  },
  {
   "cell_type": "code",
   "execution_count": null,
   "id": "1d959f10",
   "metadata": {},
   "outputs": [],
   "source": [
    "df = pd.DataFrame(np.array([[1,2,3],[4,5,6],[7,8,9]]), columns = ['a','b','c'])\n",
    "df"
   ]
  },
  {
   "cell_type": "markdown",
   "id": "6920081a",
   "metadata": {},
   "source": [
    "### Criando um dataframe com dicionários"
   ]
  },
  {
   "cell_type": "code",
   "execution_count": null,
   "id": "1d6b0223",
   "metadata": {},
   "outputs": [],
   "source": [
    "dados = {'valor1':[1,2],'valor2':[3,4],'valor3':[5,6]}\n",
    "\n",
    "df2 = pd.DataFrame(data=dados)\n",
    "df2"
   ]
  },
  {
   "cell_type": "markdown",
   "id": "1199629b",
   "metadata": {},
   "source": [
    "### Criando um dataframe com dicionário e alterando os índices"
   ]
  },
  {
   "cell_type": "code",
   "execution_count": null,
   "id": "f92b8fbf",
   "metadata": {},
   "outputs": [],
   "source": [
    "dados = {'valor1':[1,2],'valor2':[3,4],'valor3':[5,6]}\n",
    "\n",
    "df3 = pd.DataFrame(data=dados, index = ['a','b'])\n",
    "df3"
   ]
  },
  {
   "cell_type": "markdown",
   "id": "6d586068",
   "metadata": {},
   "source": [
    "### Retornando os valores e colunas de um dataframe"
   ]
  },
  {
   "cell_type": "code",
   "execution_count": null,
   "id": "31899ecd",
   "metadata": {},
   "outputs": [],
   "source": [
    "df3.values"
   ]
  },
  {
   "cell_type": "code",
   "execution_count": null,
   "id": "a7d221f6",
   "metadata": {},
   "outputs": [],
   "source": [
    "df3.columns"
   ]
  },
  {
   "cell_type": "markdown",
   "id": "078b2dd8",
   "metadata": {},
   "source": [
    "### Lendo um arquivo e criando um dataframe"
   ]
  },
  {
   "cell_type": "code",
   "execution_count": null,
   "id": "dde92d49",
   "metadata": {},
   "outputs": [],
   "source": [
    "df = pd.read_excel('C:\\\\Users\\\\dell\\\\Downloads\\\\bank-full.xlsx',sheet_name='Sheet 1 - bank-full')"
   ]
  },
  {
   "cell_type": "markdown",
   "id": "c67c560d",
   "metadata": {},
   "source": [
    "### Exibindo o cabeçalho do dataframe"
   ]
  },
  {
   "cell_type": "code",
   "execution_count": null,
   "id": "d1932cd0",
   "metadata": {},
   "outputs": [],
   "source": [
    "df.head()"
   ]
  },
  {
   "cell_type": "markdown",
   "id": "895d2ab6",
   "metadata": {},
   "source": [
    "### Analisando o final do dataframe"
   ]
  },
  {
   "cell_type": "code",
   "execution_count": null,
   "id": "0a2d00d0",
   "metadata": {},
   "outputs": [],
   "source": [
    "df.tail()"
   ]
  },
  {
   "cell_type": "markdown",
   "id": "baa5f44a",
   "metadata": {},
   "source": [
    "###  Modificando o cabeçalho do dataframe"
   ]
  },
  {
   "cell_type": "code",
   "execution_count": null,
   "id": "e9b06fb1",
   "metadata": {
    "scrolled": true
   },
   "outputs": [],
   "source": [
    "df.columns = [\n",
    "    'idade','job','estado civil','educação','default',\n",
    "    'balance','housing','empréstimo','contato','dia',\n",
    "    'mes','duracao','campanha','pdays','previous','poutcome'\n",
    "]\n",
    "\n",
    "df"
   ]
  },
  {
   "cell_type": "markdown",
   "id": "9f4ba70e",
   "metadata": {},
   "source": [
    "### Modificando o cabeçalho de colunas específicas"
   ]
  },
  {
   "cell_type": "code",
   "execution_count": null,
   "id": "aafa3138",
   "metadata": {},
   "outputs": [],
   "source": [
    "df.rename(columns={'idade':'Idade','job':'Profissão'})"
   ]
  },
  {
   "cell_type": "markdown",
   "id": "8bdcf795",
   "metadata": {},
   "source": [
    "### Retornando as informações do dataframe"
   ]
  },
  {
   "cell_type": "code",
   "execution_count": null,
   "id": "9659ba6d",
   "metadata": {
    "scrolled": true
   },
   "outputs": [],
   "source": [
    "df.info()"
   ]
  },
  {
   "cell_type": "markdown",
   "id": "8165412f",
   "metadata": {},
   "source": [
    "### Analisando algumas estatísticas básicas do dataframe (variáveis numéricas)"
   ]
  },
  {
   "cell_type": "code",
   "execution_count": null,
   "id": "9c3b7782",
   "metadata": {},
   "outputs": [],
   "source": [
    "df.describe()"
   ]
  },
  {
   "cell_type": "markdown",
   "id": "946bab0a",
   "metadata": {},
   "source": [
    "### Retornando estatísticas básicas do dataframe (variáveis categóricas)"
   ]
  },
  {
   "cell_type": "code",
   "execution_count": null,
   "id": "06818f8a",
   "metadata": {},
   "outputs": [],
   "source": [
    "df.describe(include=['O'])"
   ]
  },
  {
   "cell_type": "markdown",
   "id": "b8f293c3",
   "metadata": {},
   "source": [
    "### Retornando estatísticas básicas do dataframe (variáveis categóricas e numéricas)"
   ]
  },
  {
   "cell_type": "code",
   "execution_count": null,
   "id": "d33594d1",
   "metadata": {},
   "outputs": [],
   "source": [
    "df.describe(include='all')"
   ]
  },
  {
   "cell_type": "markdown",
   "id": "c5d4ac35",
   "metadata": {},
   "source": [
    "### Retornando colunas de um dataframe"
   ]
  },
  {
   "cell_type": "code",
   "execution_count": null,
   "id": "1a81448b",
   "metadata": {},
   "outputs": [],
   "source": [
    "df['age']"
   ]
  },
  {
   "cell_type": "code",
   "execution_count": null,
   "id": "87e2683f",
   "metadata": {},
   "outputs": [],
   "source": [
    "df.age"
   ]
  },
  {
   "cell_type": "markdown",
   "id": "1ea49a8a",
   "metadata": {},
   "source": [
    "### Retornando mais de uma coluna no dataframe"
   ]
  },
  {
   "cell_type": "code",
   "execution_count": null,
   "id": "3b6c67a9",
   "metadata": {},
   "outputs": [],
   "source": [
    "df[['age','day','job']]"
   ]
  },
  {
   "cell_type": "markdown",
   "id": "92d8b45c",
   "metadata": {},
   "source": [
    "# Seleção: iloc"
   ]
  },
  {
   "cell_type": "markdown",
   "id": "c35112a0",
   "metadata": {},
   "source": [
    "Retornando a primeira linha do dataframe"
   ]
  },
  {
   "cell_type": "code",
   "execution_count": null,
   "id": "3377c6e8",
   "metadata": {},
   "outputs": [],
   "source": [
    "df.iloc[1]"
   ]
  },
  {
   "cell_type": "code",
   "execution_count": null,
   "id": "b0a4db3a",
   "metadata": {},
   "outputs": [],
   "source": [
    "df.iloc[[1]]"
   ]
  },
  {
   "cell_type": "markdown",
   "id": "4f73fa76",
   "metadata": {},
   "source": [
    "Retornando a última linha do dataframe."
   ]
  },
  {
   "cell_type": "code",
   "execution_count": null,
   "id": "328171e3",
   "metadata": {},
   "outputs": [],
   "source": [
    "df.iloc[[-1]]"
   ]
  },
  {
   "cell_type": "markdown",
   "id": "42d09301",
   "metadata": {},
   "source": [
    "Retornando uma fatia de linhas"
   ]
  },
  {
   "cell_type": "code",
   "execution_count": null,
   "id": "8e0166ce",
   "metadata": {},
   "outputs": [],
   "source": [
    "df.iloc[0:3]"
   ]
  },
  {
   "cell_type": "code",
   "execution_count": null,
   "id": "7895983e",
   "metadata": {},
   "outputs": [],
   "source": [
    "df.iloc[:,1]"
   ]
  },
  {
   "cell_type": "markdown",
   "id": "1c3b97c1",
   "metadata": {},
   "source": [
    "Retornando todas as linhas e um fatiamento de colunas do dataframe."
   ]
  },
  {
   "cell_type": "code",
   "execution_count": null,
   "id": "2b008078",
   "metadata": {},
   "outputs": [],
   "source": [
    "df.iloc[:,1:3]"
   ]
  },
  {
   "cell_type": "markdown",
   "id": "2527c85f",
   "metadata": {},
   "source": [
    "Uma linha e um fatiamento de colunas."
   ]
  },
  {
   "cell_type": "code",
   "execution_count": null,
   "id": "8058ed6c",
   "metadata": {},
   "outputs": [],
   "source": [
    "df.iloc[1,0:3]"
   ]
  },
  {
   "cell_type": "markdown",
   "id": "fa14d86b",
   "metadata": {},
   "source": [
    "Um fatiamento de linhas e colunas."
   ]
  },
  {
   "cell_type": "code",
   "execution_count": null,
   "id": "adaff1bf",
   "metadata": {},
   "outputs": [],
   "source": [
    "df.iloc[0:2,0:3]"
   ]
  },
  {
   "cell_type": "markdown",
   "id": "314fc83c",
   "metadata": {},
   "source": [
    "Um array e um fatiamento de colunas."
   ]
  },
  {
   "cell_type": "code",
   "execution_count": null,
   "id": "ea038fcc",
   "metadata": {},
   "outputs": [],
   "source": [
    "df.iloc[[0,5,8],0:3]"
   ]
  },
  {
   "cell_type": "markdown",
   "id": "659f457d",
   "metadata": {},
   "source": [
    "# Seleção: loc"
   ]
  },
  {
   "cell_type": "markdown",
   "id": "3fbafc63",
   "metadata": {},
   "source": [
    "Selecionando uma linha"
   ]
  },
  {
   "cell_type": "code",
   "execution_count": null,
   "id": "03a2835c",
   "metadata": {},
   "outputs": [],
   "source": [
    "df.loc[[1]]"
   ]
  },
  {
   "cell_type": "code",
   "execution_count": null,
   "id": "b4a01c73",
   "metadata": {},
   "outputs": [],
   "source": [
    "df.loc[1]"
   ]
  },
  {
   "cell_type": "markdown",
   "id": "cf4a3485",
   "metadata": {},
   "source": [
    "Selecionando um conjunto de linhas."
   ]
  },
  {
   "cell_type": "code",
   "execution_count": null,
   "id": "7f0f9334",
   "metadata": {},
   "outputs": [],
   "source": [
    "df.loc[[0,1,2]]"
   ]
  },
  {
   "cell_type": "markdown",
   "id": "bd812854",
   "metadata": {},
   "source": [
    "Selecionando uma fatia de linhas."
   ]
  },
  {
   "cell_type": "code",
   "execution_count": null,
   "id": "0a7f8478",
   "metadata": {},
   "outputs": [],
   "source": [
    "df.loc[0:3]"
   ]
  },
  {
   "cell_type": "markdown",
   "id": "654cceb4",
   "metadata": {},
   "source": [
    "Selecionando uma lista de linhas e colunas."
   ]
  },
  {
   "cell_type": "code",
   "execution_count": null,
   "id": "a5ed7573",
   "metadata": {},
   "outputs": [],
   "source": [
    "df.loc[[0,1],['age','job','default']]"
   ]
  },
  {
   "cell_type": "markdown",
   "id": "03a067d3",
   "metadata": {},
   "source": [
    "Selecionando uma fatia de linhas e colunas."
   ]
  },
  {
   "cell_type": "code",
   "execution_count": null,
   "id": "a049e35b",
   "metadata": {},
   "outputs": [],
   "source": [
    "df.loc[0:2,['age','job','default']]"
   ]
  },
  {
   "cell_type": "markdown",
   "id": "3221a1ad",
   "metadata": {},
   "source": [
    "Selecionando dados com uma condição"
   ]
  },
  {
   "cell_type": "code",
   "execution_count": null,
   "id": "45d2f2be",
   "metadata": {},
   "outputs": [],
   "source": [
    "df.loc[df.age > 55]"
   ]
  },
  {
   "cell_type": "markdown",
   "id": "874660c4",
   "metadata": {},
   "source": [
    "Selecionando dados com mais de uma condição."
   ]
  },
  {
   "cell_type": "code",
   "execution_count": null,
   "id": "79c5ec5d",
   "metadata": {
    "scrolled": false
   },
   "outputs": [],
   "source": [
    "df.loc[(df.age > 55) & (df.job == 'technician')]"
   ]
  }
 ],
 "metadata": {
  "kernelspec": {
   "display_name": "Python 3 (ipykernel)",
   "language": "python",
   "name": "python3"
  },
  "language_info": {
   "codemirror_mode": {
    "name": "ipython",
    "version": 3
   },
   "file_extension": ".py",
   "mimetype": "text/x-python",
   "name": "python",
   "nbconvert_exporter": "python",
   "pygments_lexer": "ipython3",
   "version": "3.9.13"
  }
 },
 "nbformat": 4,
 "nbformat_minor": 5
}
