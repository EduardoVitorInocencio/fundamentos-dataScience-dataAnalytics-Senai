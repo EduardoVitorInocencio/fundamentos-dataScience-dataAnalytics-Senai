{
 "cells": [
  {
   "cell_type": "markdown",
   "id": "ba3941ea",
   "metadata": {},
   "source": [
    "# Exercícios - Introdução ao Python"
   ]
  },
  {
   "cell_type": "markdown",
   "id": "db767031",
   "metadata": {},
   "source": [
    "# Variáveis\n",
    "2.\tAtribua os seguintes valores às variáveis, um a um:"
   ]
  },
  {
   "cell_type": "code",
   "execution_count": null,
   "id": "b3f2bc03",
   "metadata": {},
   "outputs": [],
   "source": [
    "a = 347\n",
    "b = 2.71\n",
    "c = \"347\"\n",
    "d = 2+3j"
   ]
  },
  {
   "cell_type": "markdown",
   "id": "26401eca",
   "metadata": {},
   "source": [
    "3.\tQuais os tipos das variáveis acima?"
   ]
  },
  {
   "cell_type": "code",
   "execution_count": null,
   "id": "192dcbd7",
   "metadata": {},
   "outputs": [],
   "source": [
    "print(type(a))\n",
    "print(type(b))\n",
    "print(type(c))\n",
    "print(type(d))"
   ]
  },
  {
   "cell_type": "markdown",
   "id": "e891680b",
   "metadata": {},
   "source": [
    "4.\tFaça uma atribuição múltipla das variáveis do exercício 2.\n"
   ]
  },
  {
   "cell_type": "code",
   "execution_count": null,
   "id": "6841e845",
   "metadata": {},
   "outputs": [],
   "source": [
    "x, y, z = 3,8,9\n",
    "print(x)\n",
    "print(y)\n",
    "print(z)"
   ]
  },
  {
   "cell_type": "markdown",
   "id": "8cf64c27",
   "metadata": {},
   "source": [
    "5.\tDeclare a seguinte variável e verifique o que acontece\n",
    "    a.\tteste = true\n"
   ]
  },
  {
   "cell_type": "code",
   "execution_count": null,
   "id": "21f029c4",
   "metadata": {},
   "outputs": [],
   "source": [
    "teste = True\n",
    "\n",
    "print(type(teste))\n",
    "print(teste)"
   ]
  },
  {
   "cell_type": "markdown",
   "id": "f5bf3e5e",
   "metadata": {},
   "source": [
    "6.\tTransforme as variáveis do exercício 2 conforme segue:\n",
    "a.\tpara float /\n",
    "b.\tpara inteiro / \n",
    "c.\tpara float / \n",
    "d.\tpara string"
   ]
  },
  {
   "cell_type": "code",
   "execution_count": null,
   "id": "d58752ce",
   "metadata": {
    "scrolled": true
   },
   "outputs": [],
   "source": [
    "a = float(a)\n",
    "print(a)\n",
    "print(type(a))\n",
    "\n",
    "b = int(b)\n",
    "print(b)\n",
    "print(type(b))\n",
    "\n",
    "c = float(c)\n",
    "print(c)\n",
    "print(type(c))\n",
    "\n",
    "d = str(d)\n",
    "print(d)\n",
    "print(type(d))"
   ]
  },
  {
   "cell_type": "markdown",
   "id": "3c87b695",
   "metadata": {},
   "source": [
    "7.\tCrie uma variável complexa com os valores de 2.a e 2.b"
   ]
  },
  {
   "cell_type": "code",
   "execution_count": null,
   "id": "c0a41bf6",
   "metadata": {},
   "outputs": [],
   "source": [
    "aComplex = 2*a+1j\n",
    "print(aComplex)\n",
    "\n",
    "bComplex = 2*b + 1j\n",
    "print(bComplex)"
   ]
  },
  {
   "cell_type": "markdown",
   "id": "0c6310eb",
   "metadata": {},
   "source": [
    "# Operadores\n",
    "\n",
    "2.\tDefina as seguintes variáveis x = 3, y = 4.0, z = 12 e t=’beterraba’"
   ]
  },
  {
   "cell_type": "code",
   "execution_count": null,
   "id": "04e78e15",
   "metadata": {},
   "outputs": [],
   "source": [
    "x = 3\n",
    "y = 4.0\n",
    "z = 12\n",
    "t = 'beterraba'\n",
    "\n",
    "print(x)\n",
    "print(y)\n",
    "print(z)\n",
    "print(t)"
   ]
  },
  {
   "cell_type": "markdown",
   "id": "5e28ef4e",
   "metadata": {},
   "source": [
    "3.\tCalcule:\n",
    "a.\tx + y |\n",
    "b.\tz – y |\n",
    "c.\ty ** x |\n",
    "d.\tx * z |\n",
    "e.\tz / x |\n",
    "f.\ty / x |\n",
    "g.\ty % x |\n"
   ]
  },
  {
   "cell_type": "code",
   "execution_count": null,
   "id": "8b286a34",
   "metadata": {},
   "outputs": [],
   "source": [
    "# adição\n",
    "x+y"
   ]
  },
  {
   "cell_type": "code",
   "execution_count": null,
   "id": "a22df0bd",
   "metadata": {},
   "outputs": [],
   "source": [
    "# subtração\n",
    "z-y"
   ]
  },
  {
   "cell_type": "code",
   "execution_count": null,
   "id": "3e853383",
   "metadata": {},
   "outputs": [],
   "source": [
    "# exponenciação\n",
    "y**x"
   ]
  },
  {
   "cell_type": "code",
   "execution_count": null,
   "id": "4f6acf80",
   "metadata": {},
   "outputs": [],
   "source": [
    "# multiplicação\n",
    "x*z"
   ]
  },
  {
   "cell_type": "code",
   "execution_count": null,
   "id": "92ff721e",
   "metadata": {},
   "outputs": [],
   "source": [
    "# divisão\n",
    "z/x"
   ]
  },
  {
   "cell_type": "code",
   "execution_count": null,
   "id": "4b6418ba",
   "metadata": {},
   "outputs": [],
   "source": [
    "# resto da divisão\n",
    "y%x"
   ]
  },
  {
   "cell_type": "markdown",
   "id": "9570189c",
   "metadata": {},
   "source": [
    "4.\tTeste as seguintes relações:\n",
    "\n",
    "a.\tx > y |\n",
    "b.\tx * y == z |\n",
    "c.\tt == y |\n",
    "d.\tx < y and x > z\n"
   ]
  },
  {
   "cell_type": "code",
   "execution_count": null,
   "id": "78b6131e",
   "metadata": {},
   "outputs": [],
   "source": [
    "x>y"
   ]
  },
  {
   "cell_type": "code",
   "execution_count": null,
   "id": "09043391",
   "metadata": {},
   "outputs": [],
   "source": [
    "x*y==z"
   ]
  },
  {
   "cell_type": "code",
   "execution_count": null,
   "id": "34470705",
   "metadata": {},
   "outputs": [],
   "source": [
    "t==y"
   ]
  },
  {
   "cell_type": "code",
   "execution_count": null,
   "id": "19fa7edc",
   "metadata": {},
   "outputs": [],
   "source": [
    "x<y and x>z"
   ]
  },
  {
   "cell_type": "markdown",
   "id": "df25853c",
   "metadata": {},
   "source": [
    "# Operações com string\n",
    "2.\tCrie uma variável com seu nome completo."
   ]
  },
  {
   "cell_type": "code",
   "execution_count": null,
   "id": "cd28b423",
   "metadata": {},
   "outputs": [],
   "source": [
    "nomeCompleto = \"Eduardo Vitor da Silva Inocencio\"\n",
    "print(nomeCompleto)"
   ]
  },
  {
   "cell_type": "markdown",
   "id": "1f6fd7ca",
   "metadata": {},
   "source": [
    "3.\tEscreva a variável em lowercase."
   ]
  },
  {
   "cell_type": "code",
   "execution_count": null,
   "id": "2294cf04",
   "metadata": {},
   "outputs": [],
   "source": [
    "nomeCompleto.lower()"
   ]
  },
  {
   "cell_type": "markdown",
   "id": "f29a8788",
   "metadata": {},
   "source": [
    "4.\tEscreva em uppercase."
   ]
  },
  {
   "cell_type": "code",
   "execution_count": null,
   "id": "b900db56",
   "metadata": {},
   "outputs": [],
   "source": [
    "nomeCompleto.upper()"
   ]
  },
  {
   "cell_type": "markdown",
   "id": "996d87e7",
   "metadata": {},
   "source": [
    "5.\tVerifique se o nome começa com a letra P."
   ]
  },
  {
   "cell_type": "code",
   "execution_count": null,
   "id": "4466391b",
   "metadata": {},
   "outputs": [],
   "source": [
    "nomeCompleto.startswith('P')"
   ]
  },
  {
   "cell_type": "markdown",
   "id": "ffc451d7",
   "metadata": {},
   "source": [
    "6.\tVerifique se o nome termina com a letra J."
   ]
  },
  {
   "cell_type": "code",
   "execution_count": null,
   "id": "9f0f0dc4",
   "metadata": {},
   "outputs": [],
   "source": [
    "nomeCompleto.endswith('J')"
   ]
  },
  {
   "cell_type": "markdown",
   "id": "45ac2ead",
   "metadata": {},
   "source": [
    "7.\tFatie a string para apenas o 1o nome."
   ]
  },
  {
   "cell_type": "code",
   "execution_count": null,
   "id": "576eed59",
   "metadata": {},
   "outputs": [],
   "source": [
    "a = nomeCompleto.find(\"o\")+1\n",
    "nomeCompleto[:a]"
   ]
  },
  {
   "cell_type": "markdown",
   "id": "1483cfff",
   "metadata": {},
   "source": [
    "8.\tFatie a string de 2 em 2."
   ]
  },
  {
   "cell_type": "code",
   "execution_count": null,
   "id": "8d7afef8",
   "metadata": {},
   "outputs": [],
   "source": [
    "nomeCompleto[::2]"
   ]
  },
  {
   "cell_type": "markdown",
   "id": "e84179f5",
   "metadata": {},
   "source": [
    "9.\tConsiderando os espaços, qual o tamanho do seu nome?"
   ]
  },
  {
   "cell_type": "code",
   "execution_count": null,
   "id": "81ab2249",
   "metadata": {},
   "outputs": [],
   "source": [
    "len(nomeCompleto)"
   ]
  },
  {
   "cell_type": "markdown",
   "id": "0514b44c",
   "metadata": {},
   "source": [
    "# Listas"
   ]
  },
  {
   "cell_type": "markdown",
   "id": "49e4516d",
   "metadata": {},
   "source": [
    "2.\tCrie uma lista com nomes de 4 times de futebol."
   ]
  },
  {
   "cell_type": "code",
   "execution_count": null,
   "id": "8cf5d8c3",
   "metadata": {},
   "outputs": [],
   "source": [
    "teams = [\n",
    "    'Palmeiras',\n",
    "    'São Paulo',\n",
    "    'Santos',\n",
    "    'Água Santa'\n",
    "]\n",
    "\n",
    "print(teams)"
   ]
  },
  {
   "cell_type": "markdown",
   "id": "5a92a6e1",
   "metadata": {},
   "source": [
    "3.\tAcesse o time que está na 3a posição."
   ]
  },
  {
   "cell_type": "code",
   "execution_count": null,
   "id": "669bf570",
   "metadata": {},
   "outputs": [],
   "source": [
    "teams[3]"
   ]
  },
  {
   "cell_type": "markdown",
   "id": "4616008b",
   "metadata": {},
   "source": [
    "4.\tCrie uma lista com duas listas de 3 times de futebol, cada uma de uma divisão diferente."
   ]
  },
  {
   "cell_type": "code",
   "execution_count": null,
   "id": "c13a6657",
   "metadata": {},
   "outputs": [],
   "source": [
    "teams_division = [\n",
    "    \n",
    "\n",
    "    ['Paris Saint German','Manchester','Palmeiras'],\n",
    "    ['Água Santa','Taperinha','São Caetano']\n",
    "]\n",
    "\n",
    "print(teams_division)"
   ]
  },
  {
   "cell_type": "markdown",
   "id": "c1c6e791",
   "metadata": {},
   "source": [
    "5.\tCrie uma lista com 3 diferentes moedas. Acrescente mais 2 outras moedas à essa mesma lista."
   ]
  },
  {
   "cell_type": "code",
   "execution_count": null,
   "id": "9cf26b19",
   "metadata": {},
   "outputs": [],
   "source": [
    "currency = ['real','dolar','pounds']\n",
    "currency"
   ]
  },
  {
   "cell_type": "code",
   "execution_count": null,
   "id": "22c8be47",
   "metadata": {},
   "outputs": [],
   "source": [
    "a = ['euro','rand','peso']\n",
    "\n",
    "for i in a:\n",
    "    currency.append(i)"
   ]
  },
  {
   "cell_type": "code",
   "execution_count": null,
   "id": "9acd9e65",
   "metadata": {},
   "outputs": [],
   "source": [
    "currency"
   ]
  },
  {
   "cell_type": "markdown",
   "id": "2a0b75f5",
   "metadata": {},
   "source": [
    "6.\tCrie uma string com a lista do exercício anterior."
   ]
  },
  {
   "cell_type": "code",
   "execution_count": null,
   "id": "2ed4bedd",
   "metadata": {},
   "outputs": [],
   "source": [
    "string_currency = \",\".join(currency)\n",
    "string_currency"
   ]
  },
  {
   "cell_type": "markdown",
   "id": "ffa53db0",
   "metadata": {},
   "source": [
    "7.\tAgora utilize a string do exercício 6 para recriar uma lista."
   ]
  },
  {
   "cell_type": "code",
   "execution_count": null,
   "id": "cadd5fea",
   "metadata": {},
   "outputs": [],
   "source": [
    "list(string_currency.split(','))"
   ]
  },
  {
   "cell_type": "markdown",
   "id": "36fb9371",
   "metadata": {},
   "source": [
    "# Dicionários"
   ]
  },
  {
   "cell_type": "markdown",
   "id": "5ae0bac0",
   "metadata": {},
   "source": [
    "2.\tCrie um dicionário chamado cardapio em que as chaves são os dias da semana e os respectivos valores sejam os pratos do dia"
   ]
  },
  {
   "cell_type": "code",
   "execution_count": null,
   "id": "9816b88d",
   "metadata": {},
   "outputs": [],
   "source": [
    "cardapio = {\n",
    "    \n",
    "    'segunda':'Frango a parmegiana',\n",
    "    'terça': 'arroz biro biro',\n",
    "    'quarta': 'feijoada',\n",
    "    'quinta': 'Virado paulista',\n",
    "    'sexta': 'Bife a cavalo'\n",
    "}\n",
    "\n",
    "cardapio[\"segunda\"]"
   ]
  },
  {
   "cell_type": "markdown",
   "id": "a75660bf",
   "metadata": {},
   "source": [
    "3.\tCrie um dicionário chamado hemograma que contenha as seguintes chaves:valor"
   ]
  },
  {
   "cell_type": "code",
   "execution_count": null,
   "id": "c72f2c67",
   "metadata": {},
   "outputs": [],
   "source": [
    "hemograma = {\n",
    "    'hemacias': 4.71,\n",
    "    'hemoglobina': 14.1,\n",
    "    'hematocrito': 41.2,\n",
    "    'linfocitos': 38,\n",
    "    'monocitos': 7,\n",
    "    'resultado': 'saudável'\n",
    "}\n",
    "\n",
    "hemograma"
   ]
  },
  {
   "cell_type": "markdown",
   "id": "24a733e1",
   "metadata": {},
   "source": [
    "4.\tCorrija o dicionário acima com monocitos:12."
   ]
  },
  {
   "cell_type": "code",
   "execution_count": null,
   "id": "39b5285c",
   "metadata": {},
   "outputs": [],
   "source": [
    "hemograma['monocitos'] = 12\n",
    "hemograma"
   ]
  }
 ],
 "metadata": {
  "kernelspec": {
   "display_name": "Python 3 (ipykernel)",
   "language": "python",
   "name": "python3"
  },
  "language_info": {
   "codemirror_mode": {
    "name": "ipython",
    "version": 3
   },
   "file_extension": ".py",
   "mimetype": "text/x-python",
   "name": "python",
   "nbconvert_exporter": "python",
   "pygments_lexer": "ipython3",
   "version": "3.9.13"
  }
 },
 "nbformat": 4,
 "nbformat_minor": 5
}
