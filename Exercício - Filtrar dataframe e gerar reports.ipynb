{
 "cells": [
  {
   "cell_type": "code",
   "execution_count": null,
   "id": "bf26370a",
   "metadata": {},
   "outputs": [],
   "source": [
    "import pandas as pd\n",
    "\n",
    "path = \"C:\\\\Users\\\\dell\\\\OneDrive\\\\Área de Trabalho\\\\Curso Python - Escola SENAI Suiço Brasileira\\\\Exercícios Extras\\\\\"\n",
    "file = \"dados-vendas.xlsx\"\n",
    "\n",
    "dados = pd.read_excel(path + file)\n",
    "\n",
    "dados.head()\n",
    "df2 = dados['Vendedor'].drop_duplicates()\n",
    "listaVendedores = df2.tolist()\n",
    "\n",
    "for i in listaVendedores:\n",
    "    df_final = dados[dados['Vendedor']==i]\n",
    "    df_final.to_excel(path + i + '.xlsx')"
   ]
  }
 ],
 "metadata": {
  "kernelspec": {
   "display_name": "Python 3 (ipykernel)",
   "language": "python",
   "name": "python3"
  },
  "language_info": {
   "codemirror_mode": {
    "name": "ipython",
    "version": 3
   },
   "file_extension": ".py",
   "mimetype": "text/x-python",
   "name": "python",
   "nbconvert_exporter": "python",
   "pygments_lexer": "ipython3",
   "version": "3.9.13"
  }
 },
 "nbformat": 4,
 "nbformat_minor": 5
}
